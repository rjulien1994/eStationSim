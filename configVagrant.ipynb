{
 "cells": [
  {
   "cell_type": "code",
   "execution_count": 1,
   "metadata": {},
   "outputs": [],
   "source": [
    "vagrantStructPath = \"config/vagrant.txt\"\n",
    "VMStructPath = \"config/VMbasic.txt\"\n",
    "bootstrapStructPath = \"config/bootstrap.txt\"\n",
    "simCmdPath = \"config/eStationSimCmd.txt\"\n",
    "\n",
    "with open(vagrantStructPath) as f:\n",
    "    vangrantStructure = f.read()\n",
    "\n",
    "with open(VMStructPath) as f:\n",
    "    VMStructure = f.read()\n",
    "\n",
    "with open(bootstrapStructPath) as f:\n",
    "    bootstrapStructure = f.read()\n",
    "\n",
    "with open(simCmdPath) as f:\n",
    "    simCmd = f.read()"
   ]
  },
  {
   "cell_type": "code",
   "execution_count": 8,
   "metadata": {},
   "outputs": [],
   "source": [
    "def outputSimCmd(ID, schURL, sch, server, PCS, PWCATL, PWCEV, BESS, EVSE):\n",
    "    keys = {\n",
    "        \"{eStationID}\": ID,\n",
    "        \"{schemaRegistryURL}\": schURL,\n",
    "        \"{schemaPath}\": sch,\n",
    "        \"{serverIP}\": server,\n",
    "        \"{nPCS}\": str(PCS),\n",
    "        \"{nPWCATLs}\": str(PWCATL),\n",
    "        \"{nPWCEVs}\": str(PWCEV),\n",
    "        \"{BESSs}\": str(BESS),\n",
    "        \"{nEVSEs}\": str(EVSE)\n",
    "    }\n",
    "    cmd = simCmd\n",
    "    for key, val in keys.items():\n",
    "        cmd = cmd.replace(key, val)\n",
    "    return cmd\n",
    "\n",
    "def outputBootstrap(cmds):\n",
    "    return bootstrapStructure.replace(\"{programCmds}\", cmds)\n",
    "\n",
    "def outputVM(name, ref, bootFile):\n",
    "    output = VMStructure.replace(\"{VMname}\", name)\n",
    "    output = output.replace(\"{VMRef}\", ref)\n",
    "    return output.replace(\"{bootstrapFileName}\", bootFile)\n",
    "\n",
    "def outputVagrant(config):\n",
    "    return vangrantStructure.replace(\"{config}\", config)"
   ]
  },
  {
   "cell_type": "code",
   "execution_count": 7,
   "metadata": {},
   "outputs": [],
   "source": [
    "#Parameters of the python sim code\n",
    "schemaRegistryURL = \"http://192.168.188.54:8081\"\n",
    "schemaPath = \"eStationAvroSchema.avsc\"\n",
    "bootstrap = \"192.168.188.54:9092\"\n",
    "PCS = 1 \n",
    "PWCATL = 1 \n",
    "PWCEV = 2 \n",
    "BESS = 1 \n",
    "EVSE = 8\n",
    "\n",
    "#N sims\n",
    "SimPerVM = 2\n",
    "nVMs = 2\n",
    "\n",
    "VMs = []\n",
    "for i in range(nVMs):\n",
    "    VMname = f\"VM{i}\"\n",
    "    VMRef = f\"eStation{i}\"\n",
    "    commands = []\n",
    "    for n in range(SimPerVM):\n",
    "        eStationID = f\"eStation_{i}_{n}\"\n",
    "        commands += [outputSimCmd(eStationID, schemaRegistryURL, schemaPath, bootstrap, PCS, PWCATL, PWCEV, BESS, EVSE)]\n",
    "    bootstrapFile = outputBootstrap(\"\\n\\n\".join(commands))\n",
    "    bootstrapName = f\"bootstrap_{i}.sh\"\n",
    "    with open(f\"test/{bootstrapName}\", 'w') as f:\n",
    "        f.write(bootstrapFile)\n",
    "    VMs += [outputVM(VMname, VMRef, bootstrapName)]\n",
    "    \n",
    "vagrant = outputVagrant(\"\\n\\n\".join(VMs))\n",
    "\n",
    "with open('test/Vagrantfile', 'w') as f:\n",
    "    f.write(vagrant)"
   ]
  },
  {
   "cell_type": "code",
   "execution_count": 21,
   "metadata": {},
   "outputs": [],
   "source": []
  },
  {
   "cell_type": "code",
   "execution_count": 13,
   "metadata": {},
   "outputs": [],
   "source": [
    "output = outputSimCmd(\"test\", schemaRegistryURL, schemaPath, bootstrap, PCS, PWCATL, PWCEV, BESS, EVSE)"
   ]
  },
  {
   "cell_type": "code",
   "execution_count": 14,
   "metadata": {},
   "outputs": [],
   "source": [
    "with open('test/readme.txt', 'w') as f:\n",
    "    f.write(output)"
   ]
  }
 ],
 "metadata": {
  "interpreter": {
   "hash": "b82e60c75ec5641f410d58b865ca7472f805de6f7cbec01079939fa7db08dfa6"
  },
  "kernelspec": {
   "display_name": "Python 3.8.10 ('vagrantGettingStarted-moDRuKw1')",
   "language": "python",
   "name": "python3"
  },
  "language_info": {
   "codemirror_mode": {
    "name": "ipython",
    "version": 3
   },
   "file_extension": ".py",
   "mimetype": "text/x-python",
   "name": "python",
   "nbconvert_exporter": "python",
   "pygments_lexer": "ipython3",
   "version": "3.8.10"
  },
  "orig_nbformat": 4
 },
 "nbformat": 4,
 "nbformat_minor": 2
}
